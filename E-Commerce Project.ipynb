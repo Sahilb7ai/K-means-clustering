{
 "cells": [
  {
   "cell_type": "markdown",
   "id": "044bc01c",
   "metadata": {},
   "source": [
    "### Import libraries"
   ]
  },
  {
   "cell_type": "code",
   "execution_count": 1,
   "id": "a08ae4aa",
   "metadata": {},
   "outputs": [],
   "source": [
    "import os\n",
    "import pandas as pd\n",
    "import numpy as np\n",
    "import pandas as pd\n",
    "import matplotlib.pyplot as plt\n",
    "import plotly\n",
    "import seaborn as sns"
   ]
  },
  {
   "cell_type": "code",
   "execution_count": 2,
   "id": "88162f26",
   "metadata": {},
   "outputs": [],
   "source": [
    "pd.set_option('display.max_rows', 500)\n",
    "pd.set_option('display.max_columns', 500)\n",
    "pd.set_option('display.width', 1000)"
   ]
  },
  {
   "cell_type": "markdown",
   "id": "dc4e7002",
   "metadata": {},
   "source": [
    "### Set Directory"
   ]
  },
  {
   "cell_type": "code",
   "execution_count": 3,
   "id": "b198b246",
   "metadata": {},
   "outputs": [
    {
     "data": {
      "text/plain": [
       "<function nt.getcwd()>"
      ]
     },
     "execution_count": 3,
     "metadata": {},
     "output_type": "execute_result"
    }
   ],
   "source": [
    "os.getcwd"
   ]
  },
  {
   "cell_type": "code",
   "execution_count": 4,
   "id": "70b7b6d0",
   "metadata": {},
   "outputs": [],
   "source": [
    "#Set working directory\n",
    "os.chdir(\"C:/Users/shilpa pelwar/Downloads/KPMG-CaseStuty/EcommerceAnalytics\")\n"
   ]
  },
  {
   "cell_type": "markdown",
   "id": "240bbeeb",
   "metadata": {},
   "source": [
    "### Read DataSet"
   ]
  },
  {
   "cell_type": "code",
   "execution_count": 5,
   "id": "62837494",
   "metadata": {
    "scrolled": true
   },
   "outputs": [
    {
     "name": "stderr",
     "output_type": "stream",
     "text": [
      "C:\\Users\\shilpa pelwar\\anaconda3\\lib\\site-packages\\IPython\\core\\interactiveshell.py:3437: DtypeWarning: Columns (10) have mixed types.Specify dtype option on import or set low_memory=False.\n",
      "  exec(code_obj, self.user_global_ns, self.user_ns)\n"
     ]
    }
   ],
   "source": [
    "df=pd.read_csv(\"ecom.csv\")"
   ]
  },
  {
   "cell_type": "code",
   "execution_count": 6,
   "id": "d30d0140",
   "metadata": {},
   "outputs": [
    {
     "data": {
      "text/html": [
       "<div>\n",
       "<style scoped>\n",
       "    .dataframe tbody tr th:only-of-type {\n",
       "        vertical-align: middle;\n",
       "    }\n",
       "\n",
       "    .dataframe tbody tr th {\n",
       "        vertical-align: top;\n",
       "    }\n",
       "\n",
       "    .dataframe thead th {\n",
       "        text-align: right;\n",
       "    }\n",
       "</style>\n",
       "<table border=\"1\" class=\"dataframe\">\n",
       "  <thead>\n",
       "    <tr style=\"text-align: right;\">\n",
       "      <th></th>\n",
       "      <th>CustomerID</th>\n",
       "      <th>Item Code</th>\n",
       "      <th>InvoieNo</th>\n",
       "      <th>Date of purchase</th>\n",
       "      <th>Quantity</th>\n",
       "      <th>Time</th>\n",
       "      <th>price per Unit</th>\n",
       "      <th>Price</th>\n",
       "      <th>Shipping Location</th>\n",
       "      <th>Cancelled_status</th>\n",
       "      <th>Reason of return</th>\n",
       "      <th>Sold as set</th>\n",
       "    </tr>\n",
       "  </thead>\n",
       "  <tbody>\n",
       "    <tr>\n",
       "      <th>0</th>\n",
       "      <td>4355.0</td>\n",
       "      <td>15734</td>\n",
       "      <td>398177</td>\n",
       "      <td>10/29/2017</td>\n",
       "      <td>6</td>\n",
       "      <td>3:36:00 PM</td>\n",
       "      <td>321.0</td>\n",
       "      <td>1926.0</td>\n",
       "      <td>Location 1</td>\n",
       "      <td>NaN</td>\n",
       "      <td>NaN</td>\n",
       "      <td>NaN</td>\n",
       "    </tr>\n",
       "    <tr>\n",
       "      <th>1</th>\n",
       "      <td>4352.0</td>\n",
       "      <td>14616</td>\n",
       "      <td>394422</td>\n",
       "      <td>10/5/2017</td>\n",
       "      <td>2</td>\n",
       "      <td>2:53:00 PM</td>\n",
       "      <td>870.0</td>\n",
       "      <td>1740.0</td>\n",
       "      <td>Location 1</td>\n",
       "      <td>NaN</td>\n",
       "      <td>NaN</td>\n",
       "      <td>NaN</td>\n",
       "    </tr>\n",
       "    <tr>\n",
       "      <th>2</th>\n",
       "      <td>4352.0</td>\n",
       "      <td>14614</td>\n",
       "      <td>394422</td>\n",
       "      <td>10/12/2017</td>\n",
       "      <td>2</td>\n",
       "      <td>2:53:00 PM</td>\n",
       "      <td>933.0</td>\n",
       "      <td>1866.0</td>\n",
       "      <td>Location 1</td>\n",
       "      <td>NaN</td>\n",
       "      <td>NaN</td>\n",
       "      <td>NaN</td>\n",
       "    </tr>\n",
       "    <tr>\n",
       "      <th>3</th>\n",
       "      <td>4352.0</td>\n",
       "      <td>85014B</td>\n",
       "      <td>388633</td>\n",
       "      <td>8/22/2017</td>\n",
       "      <td>3</td>\n",
       "      <td>2:47:00 PM</td>\n",
       "      <td>623.0</td>\n",
       "      <td>1869.0</td>\n",
       "      <td>Location 1</td>\n",
       "      <td>NaN</td>\n",
       "      <td>NaN</td>\n",
       "      <td>NaN</td>\n",
       "    </tr>\n",
       "    <tr>\n",
       "      <th>4</th>\n",
       "      <td>4352.0</td>\n",
       "      <td>15364</td>\n",
       "      <td>394422</td>\n",
       "      <td>10/10/2017</td>\n",
       "      <td>2</td>\n",
       "      <td>2:53:00 PM</td>\n",
       "      <td>944.0</td>\n",
       "      <td>1888.0</td>\n",
       "      <td>Location 1</td>\n",
       "      <td>NaN</td>\n",
       "      <td>NaN</td>\n",
       "      <td>NaN</td>\n",
       "    </tr>\n",
       "  </tbody>\n",
       "</table>\n",
       "</div>"
      ],
      "text/plain": [
       "   CustomerID Item Code  InvoieNo Date of purchase  Quantity        Time  price per Unit   Price Shipping Location  Cancelled_status Reason of return  Sold as set\n",
       "0      4355.0     15734    398177       10/29/2017         6  3:36:00 PM           321.0  1926.0        Location 1               NaN              NaN          NaN\n",
       "1      4352.0     14616    394422        10/5/2017         2  2:53:00 PM           870.0  1740.0        Location 1               NaN              NaN          NaN\n",
       "2      4352.0     14614    394422       10/12/2017         2  2:53:00 PM           933.0  1866.0        Location 1               NaN              NaN          NaN\n",
       "3      4352.0    85014B    388633        8/22/2017         3  2:47:00 PM           623.0  1869.0        Location 1               NaN              NaN          NaN\n",
       "4      4352.0     15364    394422       10/10/2017         2  2:53:00 PM           944.0  1888.0        Location 1               NaN              NaN          NaN"
      ]
     },
     "execution_count": 6,
     "metadata": {},
     "output_type": "execute_result"
    }
   ],
   "source": [
    "df.head()"
   ]
  },
  {
   "cell_type": "code",
   "execution_count": 7,
   "id": "57147f17",
   "metadata": {},
   "outputs": [],
   "source": [
    "# change the column names\n",
    "df.rename(index=str, columns={'CustomerID'       : 'CustomerID',\n",
    "                              'Item Code'        : 'Item_Code',\n",
    "                              'InvoieNo'         : 'InvoiceNo',\n",
    "                              'Date of purchase' : 'Date_of_purchase',\n",
    "                              'Quantity'         : 'Quantity',\n",
    "                              'Time'             : 'Time',\n",
    "                              'price per Unit'   : 'price_per_Unit',\n",
    "                              'Price'            : 'Revenue',\n",
    "                              'Shipping Location': 'Shipping_Location',\n",
    "                              'Cancelled_status' : 'Cancelled_status',\n",
    "                              'Reason of return' : 'Reason_of_return',\n",
    "                              'Sold as set'      : 'Sold_as_set'}, inplace=True)"
   ]
  },
  {
   "cell_type": "markdown",
   "id": "51cb5daf",
   "metadata": {},
   "source": [
    "## DATA CLEANING"
   ]
  },
  {
   "cell_type": "code",
   "execution_count": 8,
   "id": "ca6292dc",
   "metadata": {},
   "outputs": [
    {
     "data": {
      "text/plain": [
       "(537979, 12)"
      ]
     },
     "execution_count": 8,
     "metadata": {},
     "output_type": "execute_result"
    }
   ],
   "source": [
    "df.shape"
   ]
  },
  {
   "cell_type": "code",
   "execution_count": 9,
   "id": "662b5743",
   "metadata": {
    "scrolled": true
   },
   "outputs": [
    {
     "name": "stdout",
     "output_type": "stream",
     "text": [
      "<class 'pandas.core.frame.DataFrame'>\n",
      "Index: 537979 entries, 0 to 537978\n",
      "Data columns (total 12 columns):\n",
      " #   Column             Non-Null Count   Dtype  \n",
      "---  ------             --------------   -----  \n",
      " 0   CustomerID         404189 non-null  float64\n",
      " 1   Item_Code          537979 non-null  object \n",
      " 2   InvoiceNo          537979 non-null  int64  \n",
      " 3   Date_of_purchase   537979 non-null  object \n",
      " 4   Quantity           537979 non-null  int64  \n",
      " 5   Time               537979 non-null  object \n",
      " 6   price_per_Unit     537979 non-null  float64\n",
      " 7   Revenue            537979 non-null  float64\n",
      " 8   Shipping_Location  537979 non-null  object \n",
      " 9   Cancelled_status   8345 non-null    float64\n",
      " 10  Reason_of_return   3 non-null       object \n",
      " 11  Sold_as_set        0 non-null       float64\n",
      "dtypes: float64(5), int64(2), object(5)\n",
      "memory usage: 53.4+ MB\n"
     ]
    }
   ],
   "source": [
    "df.info()"
   ]
  },
  {
   "cell_type": "code",
   "execution_count": 10,
   "id": "9ee2da84",
   "metadata": {
    "scrolled": true
   },
   "outputs": [
    {
     "data": {
      "text/plain": [
       "CustomerID           133790\n",
       "Item_Code                 0\n",
       "InvoiceNo                 0\n",
       "Date_of_purchase          0\n",
       "Quantity                  0\n",
       "Time                      0\n",
       "price_per_Unit            0\n",
       "Revenue                   0\n",
       "Shipping_Location         0\n",
       "Cancelled_status     529634\n",
       "Reason_of_return     537976\n",
       "Sold_as_set          537979\n",
       "dtype: int64"
      ]
     },
     "execution_count": 10,
     "metadata": {},
     "output_type": "execute_result"
    }
   ],
   "source": [
    "df.isnull().sum()"
   ]
  },
  {
   "cell_type": "code",
   "execution_count": 11,
   "id": "fbc50a36",
   "metadata": {},
   "outputs": [],
   "source": [
    "#Handling Missing Values from CustomerID as its unique value can not be impute.\n",
    "df = df.dropna(subset=['CustomerID'])"
   ]
  },
  {
   "cell_type": "code",
   "execution_count": 12,
   "id": "e66a4723",
   "metadata": {},
   "outputs": [],
   "source": [
    "#Data has only float and Object values. As 'Date of purchase' is object type ,we have change them t0 Datetime().\n",
    "df['Date_of_purchase'] = pd.to_datetime(df['Date_of_purchase'])\n",
    "df['Time'] = pd.to_datetime(df['Time'])\n"
   ]
  },
  {
   "cell_type": "code",
   "execution_count": 13,
   "id": "5d3da683",
   "metadata": {},
   "outputs": [
    {
     "data": {
      "text/plain": [
       "CustomerID                  float64\n",
       "Item_Code                    object\n",
       "InvoiceNo                     int64\n",
       "Date_of_purchase     datetime64[ns]\n",
       "Quantity                      int64\n",
       "Time                 datetime64[ns]\n",
       "price_per_Unit              float64\n",
       "Revenue                     float64\n",
       "Shipping_Location            object\n",
       "Cancelled_status            float64\n",
       "Reason_of_return             object\n",
       "Sold_as_set                 float64\n",
       "dtype: object"
      ]
     },
     "execution_count": 13,
     "metadata": {},
     "output_type": "execute_result"
    }
   ],
   "source": [
    "df.dtypes"
   ]
  },
  {
   "cell_type": "code",
   "execution_count": 14,
   "id": "a1b89db3",
   "metadata": {},
   "outputs": [],
   "source": [
    "#Drop featurse\n",
    "#As few features are mostly empty hence not contribute in decision making.\n",
    "df =df.drop(['Reason_of_return', 'Sold_as_set','Cancelled_status','price_per_Unit'], axis = 1)"
   ]
  },
  {
   "cell_type": "code",
   "execution_count": 15,
   "id": "98941d55",
   "metadata": {},
   "outputs": [
    {
     "data": {
      "text/plain": [
       "8"
      ]
     },
     "execution_count": 15,
     "metadata": {},
     "output_type": "execute_result"
    }
   ],
   "source": [
    "# check duplicates. there are 8 duplicate rows\n",
    "df.duplicated().sum()"
   ]
  },
  {
   "cell_type": "code",
   "execution_count": 16,
   "id": "d9ac6114",
   "metadata": {},
   "outputs": [
    {
     "data": {
      "text/html": [
       "<div>\n",
       "<style scoped>\n",
       "    .dataframe tbody tr th:only-of-type {\n",
       "        vertical-align: middle;\n",
       "    }\n",
       "\n",
       "    .dataframe tbody tr th {\n",
       "        vertical-align: top;\n",
       "    }\n",
       "\n",
       "    .dataframe thead th {\n",
       "        text-align: right;\n",
       "    }\n",
       "</style>\n",
       "<table border=\"1\" class=\"dataframe\">\n",
       "  <thead>\n",
       "    <tr style=\"text-align: right;\">\n",
       "      <th></th>\n",
       "      <th>CustomerID</th>\n",
       "      <th>Item_Code</th>\n",
       "      <th>InvoiceNo</th>\n",
       "      <th>Date_of_purchase</th>\n",
       "      <th>Quantity</th>\n",
       "      <th>Time</th>\n",
       "      <th>Revenue</th>\n",
       "      <th>Shipping_Location</th>\n",
       "    </tr>\n",
       "  </thead>\n",
       "  <tbody>\n",
       "  </tbody>\n",
       "</table>\n",
       "</div>"
      ],
      "text/plain": [
       "Empty DataFrame\n",
       "Columns: [CustomerID, Item_Code, InvoiceNo, Date_of_purchase, Quantity, Time, Revenue, Shipping_Location]\n",
       "Index: []"
      ]
     },
     "execution_count": 16,
     "metadata": {},
     "output_type": "execute_result"
    }
   ],
   "source": [
    "# check out rows with missing values\n",
    "df[df.isnull().any(axis=1)].head()"
   ]
  },
  {
   "cell_type": "code",
   "execution_count": 17,
   "id": "572dd35a",
   "metadata": {},
   "outputs": [],
   "source": [
    "df = df.drop_duplicates(keep= 'last')"
   ]
  },
  {
   "cell_type": "code",
   "execution_count": 18,
   "id": "b6986ed1",
   "metadata": {},
   "outputs": [
    {
     "name": "stdout",
     "output_type": "stream",
     "text": [
      "<class 'pandas.core.frame.DataFrame'>\n",
      "Index: 404181 entries, 0 to 537949\n",
      "Data columns (total 8 columns):\n",
      " #   Column             Non-Null Count   Dtype         \n",
      "---  ------             --------------   -----         \n",
      " 0   CustomerID         404181 non-null  float64       \n",
      " 1   Item_Code          404181 non-null  object        \n",
      " 2   InvoiceNo          404181 non-null  int64         \n",
      " 3   Date_of_purchase   404181 non-null  datetime64[ns]\n",
      " 4   Quantity           404181 non-null  int64         \n",
      " 5   Time               404181 non-null  datetime64[ns]\n",
      " 6   Revenue            404181 non-null  float64       \n",
      " 7   Shipping_Location  404181 non-null  object        \n",
      "dtypes: datetime64[ns](2), float64(2), int64(2), object(2)\n",
      "memory usage: 27.8+ MB\n"
     ]
    }
   ],
   "source": [
    "df.info()"
   ]
  },
  {
   "cell_type": "code",
   "execution_count": 19,
   "id": "a544bfeb",
   "metadata": {},
   "outputs": [
    {
     "data": {
      "text/html": [
       "<div>\n",
       "<style scoped>\n",
       "    .dataframe tbody tr th:only-of-type {\n",
       "        vertical-align: middle;\n",
       "    }\n",
       "\n",
       "    .dataframe tbody tr th {\n",
       "        vertical-align: top;\n",
       "    }\n",
       "\n",
       "    .dataframe thead th {\n",
       "        text-align: right;\n",
       "    }\n",
       "</style>\n",
       "<table border=\"1\" class=\"dataframe\">\n",
       "  <thead>\n",
       "    <tr style=\"text-align: right;\">\n",
       "      <th></th>\n",
       "      <th>CustomerID</th>\n",
       "      <th>InvoiceNo</th>\n",
       "      <th>Quantity</th>\n",
       "      <th>Revenue</th>\n",
       "    </tr>\n",
       "  </thead>\n",
       "  <tbody>\n",
       "    <tr>\n",
       "      <th>count</th>\n",
       "      <td>404181.00</td>\n",
       "      <td>404181.00</td>\n",
       "      <td>404181.00</td>\n",
       "      <td>404181.00</td>\n",
       "    </tr>\n",
       "    <tr>\n",
       "      <th>mean</th>\n",
       "      <td>2181.90</td>\n",
       "      <td>385648.27</td>\n",
       "      <td>11.48</td>\n",
       "      <td>2474.14</td>\n",
       "    </tr>\n",
       "    <tr>\n",
       "      <th>std</th>\n",
       "      <td>1252.68</td>\n",
       "      <td>13107.40</td>\n",
       "      <td>29.49</td>\n",
       "      <td>4891.39</td>\n",
       "    </tr>\n",
       "    <tr>\n",
       "      <th>min</th>\n",
       "      <td>2.00</td>\n",
       "      <td>361429.00</td>\n",
       "      <td>-152.00</td>\n",
       "      <td>-10152.00</td>\n",
       "    </tr>\n",
       "    <tr>\n",
       "      <th>25%</th>\n",
       "      <td>1207.00</td>\n",
       "      <td>374194.00</td>\n",
       "      <td>2.00</td>\n",
       "      <td>555.00</td>\n",
       "    </tr>\n",
       "    <tr>\n",
       "      <th>50%</th>\n",
       "      <td>2078.00</td>\n",
       "      <td>386937.00</td>\n",
       "      <td>5.00</td>\n",
       "      <td>1572.00</td>\n",
       "    </tr>\n",
       "    <tr>\n",
       "      <th>75%</th>\n",
       "      <td>3291.00</td>\n",
       "      <td>397130.00</td>\n",
       "      <td>12.00</td>\n",
       "      <td>2492.00</td>\n",
       "    </tr>\n",
       "    <tr>\n",
       "      <th>max</th>\n",
       "      <td>4372.00</td>\n",
       "      <td>406651.00</td>\n",
       "      <td>3186.00</td>\n",
       "      <td>90400.00</td>\n",
       "    </tr>\n",
       "  </tbody>\n",
       "</table>\n",
       "</div>"
      ],
      "text/plain": [
       "       CustomerID  InvoiceNo   Quantity    Revenue\n",
       "count   404181.00  404181.00  404181.00  404181.00\n",
       "mean      2181.90  385648.27      11.48    2474.14\n",
       "std       1252.68   13107.40      29.49    4891.39\n",
       "min          2.00  361429.00    -152.00  -10152.00\n",
       "25%       1207.00  374194.00       2.00     555.00\n",
       "50%       2078.00  386937.00       5.00    1572.00\n",
       "75%       3291.00  397130.00      12.00    2492.00\n",
       "max       4372.00  406651.00    3186.00   90400.00"
      ]
     },
     "execution_count": 19,
     "metadata": {},
     "output_type": "execute_result"
    }
   ],
   "source": [
    "df.describe().round(2)"
   ]
  },
  {
   "cell_type": "markdown",
   "id": "0b2e799c",
   "metadata": {},
   "source": [
    "## Remove Negative Values"
   ]
  },
  {
   "cell_type": "code",
   "execution_count": 20,
   "id": "2a169d31",
   "metadata": {},
   "outputs": [
    {
     "name": "stdout",
     "output_type": "stream",
     "text": [
      "The number of rows with negative Quantity: 8183\n"
     ]
    }
   ],
   "source": [
    "#We count the negative value of  quantity\n",
    "print(\"The number of rows with negative Quantity:\",sum(n < 0 for n in df.Quantity))"
   ]
  },
  {
   "cell_type": "code",
   "execution_count": 21,
   "id": "beb8cb46",
   "metadata": {},
   "outputs": [],
   "source": [
    "df = df[df.Quantity > 0]"
   ]
  },
  {
   "cell_type": "code",
   "execution_count": 22,
   "id": "d614d09e",
   "metadata": {},
   "outputs": [
    {
     "data": {
      "text/html": [
       "<div>\n",
       "<style scoped>\n",
       "    .dataframe tbody tr th:only-of-type {\n",
       "        vertical-align: middle;\n",
       "    }\n",
       "\n",
       "    .dataframe tbody tr th {\n",
       "        vertical-align: top;\n",
       "    }\n",
       "\n",
       "    .dataframe thead th {\n",
       "        text-align: right;\n",
       "    }\n",
       "</style>\n",
       "<table border=\"1\" class=\"dataframe\">\n",
       "  <thead>\n",
       "    <tr style=\"text-align: right;\">\n",
       "      <th></th>\n",
       "      <th>CustomerID</th>\n",
       "      <th>InvoiceNo</th>\n",
       "      <th>Quantity</th>\n",
       "      <th>Revenue</th>\n",
       "    </tr>\n",
       "  </thead>\n",
       "  <tbody>\n",
       "    <tr>\n",
       "      <th>count</th>\n",
       "      <td>395998.00</td>\n",
       "      <td>395998.00</td>\n",
       "      <td>395998.00</td>\n",
       "      <td>395998.00</td>\n",
       "    </tr>\n",
       "    <tr>\n",
       "      <th>mean</th>\n",
       "      <td>2186.42</td>\n",
       "      <td>385683.41</td>\n",
       "      <td>11.82</td>\n",
       "      <td>2554.93</td>\n",
       "    </tr>\n",
       "    <tr>\n",
       "      <th>std</th>\n",
       "      <td>1252.33</td>\n",
       "      <td>13107.51</td>\n",
       "      <td>29.67</td>\n",
       "      <td>4903.43</td>\n",
       "    </tr>\n",
       "    <tr>\n",
       "      <th>min</th>\n",
       "      <td>2.00</td>\n",
       "      <td>361429.00</td>\n",
       "      <td>1.00</td>\n",
       "      <td>12.00</td>\n",
       "    </tr>\n",
       "    <tr>\n",
       "      <th>25%</th>\n",
       "      <td>1212.00</td>\n",
       "      <td>374298.00</td>\n",
       "      <td>2.00</td>\n",
       "      <td>598.00</td>\n",
       "    </tr>\n",
       "    <tr>\n",
       "      <th>50%</th>\n",
       "      <td>2080.00</td>\n",
       "      <td>386957.00</td>\n",
       "      <td>6.00</td>\n",
       "      <td>1608.00</td>\n",
       "    </tr>\n",
       "    <tr>\n",
       "      <th>75%</th>\n",
       "      <td>3294.00</td>\n",
       "      <td>397157.00</td>\n",
       "      <td>12.00</td>\n",
       "      <td>2520.00</td>\n",
       "    </tr>\n",
       "    <tr>\n",
       "      <th>max</th>\n",
       "      <td>4372.00</td>\n",
       "      <td>406651.00</td>\n",
       "      <td>3186.00</td>\n",
       "      <td>90400.00</td>\n",
       "    </tr>\n",
       "  </tbody>\n",
       "</table>\n",
       "</div>"
      ],
      "text/plain": [
       "       CustomerID  InvoiceNo   Quantity    Revenue\n",
       "count   395998.00  395998.00  395998.00  395998.00\n",
       "mean      2186.42  385683.41      11.82    2554.93\n",
       "std       1252.33   13107.51      29.67    4903.43\n",
       "min          2.00  361429.00       1.00      12.00\n",
       "25%       1212.00  374298.00       2.00     598.00\n",
       "50%       2080.00  386957.00       6.00    1608.00\n",
       "75%       3294.00  397157.00      12.00    2520.00\n",
       "max       4372.00  406651.00    3186.00   90400.00"
      ]
     },
     "execution_count": 22,
     "metadata": {},
     "output_type": "execute_result"
    }
   ],
   "source": [
    "df.describe().round(2)"
   ]
  },
  {
   "cell_type": "code",
   "execution_count": null,
   "id": "2e0d2b74",
   "metadata": {},
   "outputs": [],
   "source": [
    "#df.iloc[np.where(df[\"Year\"] == 2016) | df[\"Month\"]== 2]\n",
    "#df.drop('Day',axis=1 ,inplace=True)"
   ]
  },
  {
   "cell_type": "code",
   "execution_count": 23,
   "id": "7ebf9f57",
   "metadata": {},
   "outputs": [],
   "source": [
    "df['Year'] = df['Date_of_purchase'].dt.year\n",
    "df['Month'] = df['Date_of_purchase'].dt.month_name()\n",
    "df['Day'] = df['Date_of_purchase'].dt.day_name()\n"
   ]
  },
  {
   "cell_type": "code",
   "execution_count": 24,
   "id": "56c7805b",
   "metadata": {
    "scrolled": true
   },
   "outputs": [
    {
     "data": {
      "text/html": [
       "<div>\n",
       "<style scoped>\n",
       "    .dataframe tbody tr th:only-of-type {\n",
       "        vertical-align: middle;\n",
       "    }\n",
       "\n",
       "    .dataframe tbody tr th {\n",
       "        vertical-align: top;\n",
       "    }\n",
       "\n",
       "    .dataframe thead th {\n",
       "        text-align: right;\n",
       "    }\n",
       "</style>\n",
       "<table border=\"1\" class=\"dataframe\">\n",
       "  <thead>\n",
       "    <tr style=\"text-align: right;\">\n",
       "      <th></th>\n",
       "      <th>CustomerID</th>\n",
       "      <th>Item_Code</th>\n",
       "      <th>InvoiceNo</th>\n",
       "      <th>Date_of_purchase</th>\n",
       "      <th>Quantity</th>\n",
       "      <th>Time</th>\n",
       "      <th>Revenue</th>\n",
       "      <th>Shipping_Location</th>\n",
       "      <th>Year</th>\n",
       "      <th>Month</th>\n",
       "      <th>Day</th>\n",
       "    </tr>\n",
       "  </thead>\n",
       "  <tbody>\n",
       "    <tr>\n",
       "      <th>0</th>\n",
       "      <td>4355.0</td>\n",
       "      <td>15734</td>\n",
       "      <td>398177</td>\n",
       "      <td>2017-10-29</td>\n",
       "      <td>6</td>\n",
       "      <td>2021-12-23 15:36:00</td>\n",
       "      <td>1926.0</td>\n",
       "      <td>Location 1</td>\n",
       "      <td>2017</td>\n",
       "      <td>October</td>\n",
       "      <td>Sunday</td>\n",
       "    </tr>\n",
       "    <tr>\n",
       "      <th>1</th>\n",
       "      <td>4352.0</td>\n",
       "      <td>14616</td>\n",
       "      <td>394422</td>\n",
       "      <td>2017-10-05</td>\n",
       "      <td>2</td>\n",
       "      <td>2021-12-23 14:53:00</td>\n",
       "      <td>1740.0</td>\n",
       "      <td>Location 1</td>\n",
       "      <td>2017</td>\n",
       "      <td>October</td>\n",
       "      <td>Thursday</td>\n",
       "    </tr>\n",
       "    <tr>\n",
       "      <th>2</th>\n",
       "      <td>4352.0</td>\n",
       "      <td>14614</td>\n",
       "      <td>394422</td>\n",
       "      <td>2017-10-12</td>\n",
       "      <td>2</td>\n",
       "      <td>2021-12-23 14:53:00</td>\n",
       "      <td>1866.0</td>\n",
       "      <td>Location 1</td>\n",
       "      <td>2017</td>\n",
       "      <td>October</td>\n",
       "      <td>Thursday</td>\n",
       "    </tr>\n",
       "    <tr>\n",
       "      <th>3</th>\n",
       "      <td>4352.0</td>\n",
       "      <td>85014B</td>\n",
       "      <td>388633</td>\n",
       "      <td>2017-08-22</td>\n",
       "      <td>3</td>\n",
       "      <td>2021-12-23 14:47:00</td>\n",
       "      <td>1869.0</td>\n",
       "      <td>Location 1</td>\n",
       "      <td>2017</td>\n",
       "      <td>August</td>\n",
       "      <td>Tuesday</td>\n",
       "    </tr>\n",
       "    <tr>\n",
       "      <th>4</th>\n",
       "      <td>4352.0</td>\n",
       "      <td>15364</td>\n",
       "      <td>394422</td>\n",
       "      <td>2017-10-10</td>\n",
       "      <td>2</td>\n",
       "      <td>2021-12-23 14:53:00</td>\n",
       "      <td>1888.0</td>\n",
       "      <td>Location 1</td>\n",
       "      <td>2017</td>\n",
       "      <td>October</td>\n",
       "      <td>Tuesday</td>\n",
       "    </tr>\n",
       "  </tbody>\n",
       "</table>\n",
       "</div>"
      ],
      "text/plain": [
       "   CustomerID Item_Code  InvoiceNo Date_of_purchase  Quantity                Time  Revenue Shipping_Location  Year    Month       Day\n",
       "0      4355.0     15734     398177       2017-10-29         6 2021-12-23 15:36:00   1926.0        Location 1  2017  October    Sunday\n",
       "1      4352.0     14616     394422       2017-10-05         2 2021-12-23 14:53:00   1740.0        Location 1  2017  October  Thursday\n",
       "2      4352.0     14614     394422       2017-10-12         2 2021-12-23 14:53:00   1866.0        Location 1  2017  October  Thursday\n",
       "3      4352.0    85014B     388633       2017-08-22         3 2021-12-23 14:47:00   1869.0        Location 1  2017   August   Tuesday\n",
       "4      4352.0     15364     394422       2017-10-10         2 2021-12-23 14:53:00   1888.0        Location 1  2017  October   Tuesday"
      ]
     },
     "execution_count": 24,
     "metadata": {},
     "output_type": "execute_result"
    }
   ],
   "source": [
    "df.head()"
   ]
  },
  {
   "cell_type": "code",
   "execution_count": 25,
   "id": "a0e575fa",
   "metadata": {},
   "outputs": [
    {
     "data": {
      "text/plain": [
       "CustomerID            4324\n",
       "Item_Code             3637\n",
       "InvoiceNo            18305\n",
       "Date_of_purchase       381\n",
       "Quantity               209\n",
       "Time                   737\n",
       "Revenue               8805\n",
       "Shipping_Location       20\n",
       "Year                     2\n",
       "Month                   12\n",
       "Day                      7\n",
       "dtype: int64"
      ]
     },
     "execution_count": 25,
     "metadata": {},
     "output_type": "execute_result"
    }
   ],
   "source": [
    "#Count Unique value in all dataset columns\n",
    "df.nunique()"
   ]
  },
  {
   "cell_type": "code",
   "execution_count": 26,
   "id": "1177a31d",
   "metadata": {},
   "outputs": [
    {
     "data": {
      "text/plain": [
       "(395998, 11)"
      ]
     },
     "execution_count": 26,
     "metadata": {},
     "output_type": "execute_result"
    }
   ],
   "source": [
    "df.shape"
   ]
  },
  {
   "cell_type": "markdown",
   "id": "411639a2",
   "metadata": {},
   "source": [
    "## Exploratory Data Analysis (EDA)"
   ]
  },
  {
   "cell_type": "markdown",
   "id": "beed9a3a",
   "metadata": {},
   "source": [
    "orders made by the customers"
   ]
  },
  {
   "cell_type": "code",
   "execution_count": 27,
   "id": "495f1fa3",
   "metadata": {},
   "outputs": [
    {
     "name": "stdout",
     "output_type": "stream",
     "text": [
      "Top 5 customers\n"
     ]
    },
    {
     "data": {
      "text/plain": [
       "CustomerID\n",
       "1704.0    35536194.0\n",
       "1896.0    18148261.0\n",
       "56.0      14385095.0\n",
       "1346.0    12657119.0\n",
       "3802.0    12367652.0\n",
       "Name: Revenue, dtype: float64"
      ]
     },
     "execution_count": 27,
     "metadata": {},
     "output_type": "execute_result"
    }
   ],
   "source": [
    "print(\"Top 5 customers\")\n",
    "df.groupby([\"CustomerID\"])['Revenue'].sum().sort_values(ascending=False).head()"
   ]
  },
  {
   "cell_type": "code",
   "execution_count": 28,
   "id": "397730f1",
   "metadata": {},
   "outputs": [
    {
     "name": "stdout",
     "output_type": "stream",
     "text": [
      "Customers with maximum number of orders\n"
     ]
    },
    {
     "data": {
      "text/plain": [
       "CustomerID\n",
       "1678.0    3186\n",
       "1305.0    2160\n",
       "1006.0    1600\n",
       "1119.0    1500\n",
       "557.0     1440\n",
       "Name: Quantity, dtype: int64"
      ]
     },
     "execution_count": 28,
     "metadata": {},
     "output_type": "execute_result"
    }
   ],
   "source": [
    "print(\"Customers with maximum number of orders\")\n",
    "df.groupby([\"CustomerID\"])['Quantity'].max().sort_values(ascending=False).head()"
   ]
  },
  {
   "cell_type": "code",
   "execution_count": 29,
   "id": "f2466654",
   "metadata": {
    "scrolled": true
   },
   "outputs": [
    {
     "name": "stdout",
     "output_type": "stream",
     "text": [
      "Customer with maximum Orders\n"
     ]
    },
    {
     "data": {
      "text/plain": [
       "CustomerID\n",
       "276.0     406651\n",
       "588.0     406650\n",
       "2563.0    406649\n",
       "1068.0    406648\n",
       "3855.0    406646\n",
       "Name: InvoiceNo, dtype: int64"
      ]
     },
     "execution_count": 29,
     "metadata": {},
     "output_type": "execute_result"
    }
   ],
   "source": [
    "print(\"Customer with maximum Orders\")\n",
    "df.groupby([\"CustomerID\"])['InvoiceNo'].max().sort_values(ascending=False).head()"
   ]
  },
  {
   "cell_type": "code",
   "execution_count": 30,
   "id": "b050ad62",
   "metadata": {},
   "outputs": [
    {
     "name": "stdout",
     "output_type": "stream",
     "text": [
      "Location generate maximum revenue\n"
     ]
    },
    {
     "data": {
      "text/plain": [
       "Shipping_Location\n",
       "Location 36    90400.0\n",
       "Location 4     89100.0\n",
       "Location 14    87552.0\n",
       "Location 1     87156.0\n",
       "Location 11    84240.0\n",
       "Name: Revenue, dtype: float64"
      ]
     },
     "execution_count": 30,
     "metadata": {},
     "output_type": "execute_result"
    }
   ],
   "source": [
    "print(\"Location generate maximum revenue\")\n",
    "df.groupby([\"Shipping_Location\"])['Revenue'].max().sort_values(ascending=False).head()"
   ]
  },
  {
   "cell_type": "markdown",
   "id": "98ae2a75",
   "metadata": {},
   "source": [
    "## DATA VISUALIZATION"
   ]
  },
  {
   "cell_type": "code",
   "execution_count": null,
   "id": "c620cf6c",
   "metadata": {
    "scrolled": true
   },
   "outputs": [],
   "source": [
    "df.groupby(['Year'])['Revenue'].sum().plot(kind='bar', title='Yearly Sales')"
   ]
  },
  {
   "cell_type": "code",
   "execution_count": null,
   "id": "0a276c34",
   "metadata": {
    "scrolled": false
   },
   "outputs": [],
   "source": [
    "df.groupby(['Month'])['Revenue'].sum().plot(kind='bar', title='Monthly Sales')"
   ]
  },
  {
   "cell_type": "code",
   "execution_count": null,
   "id": "9556f4e0",
   "metadata": {},
   "outputs": [],
   "source": [
    "df.groupby(['Day'])['Revenue'].sum().plot(kind='bar', title='Daily Sales')"
   ]
  },
  {
   "cell_type": "code",
   "execution_count": null,
   "id": "8c5576c8",
   "metadata": {},
   "outputs": [],
   "source": [
    "df['quarter'] = df['Date_of_purchase'].dt.quarter"
   ]
  },
  {
   "cell_type": "code",
   "execution_count": null,
   "id": "322c3cea",
   "metadata": {},
   "outputs": [],
   "source": [
    "df.groupby(['quarter'])['Revenue'].sum().plot(kind='bar', title='Quarterly Sales')"
   ]
  },
  {
   "cell_type": "code",
   "execution_count": null,
   "id": "e44ba84f",
   "metadata": {},
   "outputs": [],
   "source": [
    "df.groupby(['Shipping_Location'])['Revenue'].sum().plot(kind='bar', title='Shipping Location ')"
   ]
  },
  {
   "cell_type": "code",
   "execution_count": null,
   "id": "5d8a0237",
   "metadata": {},
   "outputs": [],
   "source": [
    "df.groupby([\"Time\"])['Revenue'].sum().plot(kind=\"bar\")"
   ]
  },
  {
   "cell_type": "code",
   "execution_count": null,
   "id": "32e1fd54",
   "metadata": {
    "scrolled": true
   },
   "outputs": [],
   "source": [
    "df.groupby(['Time'])['Revenue'].sum().plot(kind='bar', title='Hourly Sales')"
   ]
  },
  {
   "cell_type": "markdown",
   "id": "371a1f63",
   "metadata": {},
   "source": [
    "## RFM Calculation"
   ]
  },
  {
   "cell_type": "code",
   "execution_count": null,
   "id": "06a4151b",
   "metadata": {},
   "outputs": [],
   "source": [
    "# identify the oldest and most recent transaction dates:\n",
    "print(df['Date_of_purchase'].min(), df['Date_of_purchase'].max())"
   ]
  },
  {
   "cell_type": "code",
   "execution_count": null,
   "id": "1186dcac",
   "metadata": {},
   "outputs": [],
   "source": [
    "Max_d = df['Date_of_purchase'].max()\n",
    "Max_d"
   ]
  },
  {
   "cell_type": "code",
   "execution_count": null,
   "id": "ff4bd94d",
   "metadata": {},
   "outputs": [],
   "source": [
    "#The data will be summarized at the customer level by taking the number of days until the last transaction, \n",
    "#the sum of the total transaction amount and the total transaction number\n",
    "Max_d = df['Date_of_purchase'].max()\n",
    "df['hist']=Max_d - df['Date_of_purchase']\n",
    "\n",
    "df['hist']=df['hist'] / np.timedelta64(1, 'D')\n",
    "168\n",
    "\n",
    "#You can convert it to a timedelta with a day precision. \n",
    "#To extract the integer value of days you divide it with a timedelta of one day.\n",
    "# which cast the series as a timedelta64 in days, and then cast it as an int:"
   ]
  },
  {
   "cell_type": "code",
   "execution_count": null,
   "id": "6088193b",
   "metadata": {},
   "outputs": [],
   "source": [
    "#RFM analysis consists of classifying R, F and M into 3 or more categories. \n",
    "#For simplicity, I will create 4 categories based on the quartiles:\n",
    "rfmTable = df.groupby('CustomerID').agg({'hist': lambda x:x.min(), # Recency\n",
    "                                        'InvoiceNo': lambda x: x.nunique() ,               # Frequency\n",
    "                                        'Revenue': lambda x: x.sum()})          # Monetary Value\n",
    "\n",
    "rfmTable.rename(columns={'hist': 'Recency', \n",
    "                         'InvoiceNo': 'Frequency', \n",
    "                         'Revenue': 'Monetary_value'}, inplace=True)"
   ]
  },
  {
   "cell_type": "code",
   "execution_count": null,
   "id": "4db72daa",
   "metadata": {},
   "outputs": [],
   "source": [
    "quartiles = rfmTable.quantile(q=[0.25,0.50,0.75])"
   ]
  },
  {
   "cell_type": "code",
   "execution_count": null,
   "id": "4964708c",
   "metadata": {},
   "outputs": [],
   "source": [
    "quartiles=quartiles.to_dict()"
   ]
  },
  {
   "cell_type": "code",
   "execution_count": null,
   "id": "0e481b09",
   "metadata": {},
   "outputs": [],
   "source": [
    "def RClass(x,p,d):\n",
    "    if x <= d[p][0.25]:\n",
    "        return 4\n",
    "    elif x <= d[p][0.50]:\n",
    "        return 3\n",
    "    elif x <= d[p][0.75]: \n",
    "        return 2\n",
    "    else:\n",
    "        return 1\n",
    "    \n",
    "## for Frequency and Monetary value \n",
    "\n",
    "def FMClass(x,p,d):\n",
    "    if x <= d[p][0.25]:\n",
    "        return 1\n",
    "    elif x <= d[p][0.50]:\n",
    "        return 2\n",
    "    elif x <= d[p][0.75]: \n",
    "        return 3\n",
    "    else:\n",
    "        return 4\n",
    "rfmSeg = rfmTable\n",
    "rfmSeg['R_Quartile'] = rfmSeg['Recency'].apply(RClass, args=('Recency',quartiles,))\n",
    "rfmSeg['F_Quartile'] = rfmSeg['Frequency'].apply(FMClass, args=('Frequency',quartiles,))\n",
    "rfmSeg['M_Quartile'] = rfmSeg['Monetary_value'].apply(FMClass, args=('Monetary_value',quartiles,))"
   ]
  },
  {
   "cell_type": "code",
   "execution_count": null,
   "id": "66b33da1",
   "metadata": {},
   "outputs": [],
   "source": [
    "# HIgher total Score better it is.  One simple way is to join the scores to create a 3-digit number between 111 and 444. The downside here is too many categories (4x4x4). Also, not easy to prioritize scores like 421 versus 412:\n",
    "rfmSeg['RFM_Score'] = rfmSeg.R_Quartile.map(str)+rfmSeg.F_Quartile.map(str)+rfmSeg.M_Quartile.map(str)                        \n",
    "rfmSeg.sort_values(by=['RFM_Score', 'Monetary_value'], ascending=[False, False])"
   ]
  },
  {
   "cell_type": "code",
   "execution_count": null,
   "id": "a061dcb9",
   "metadata": {},
   "outputs": [],
   "source": [
    "rfmSeg['Frequency'].max()"
   ]
  },
  {
   "cell_type": "code",
   "execution_count": null,
   "id": "112cf999",
   "metadata": {},
   "outputs": [],
   "source": [
    "#Let’s check how the combined score arranges R, F and M:\n",
    "rfmSeg['Total Score'] = rfmSeg['R_Quartile'] + rfmSeg['F_Quartile'] +rfmSeg['M_Quartile']"
   ]
  },
  {
   "cell_type": "code",
   "execution_count": null,
   "id": "2f6faee1",
   "metadata": {},
   "outputs": [],
   "source": [
    "rfmSeg.groupby('Total Score').agg('Monetary_value').mean().plot(kind='bar', colormap='Blues_r')"
   ]
  },
  {
   "cell_type": "code",
   "execution_count": null,
   "id": "ebbed0d9",
   "metadata": {},
   "outputs": [],
   "source": [
    "rfmSeg.groupby('Total Score').agg('Frequency').mean().plot(kind='bar', colormap='Blues_r')"
   ]
  },
  {
   "cell_type": "code",
   "execution_count": null,
   "id": "3e9125d1",
   "metadata": {},
   "outputs": [],
   "source": [
    "rfmSeg_agg = rfmSeg.groupby('RFM_Score').agg({'Recency': 'mean','Frequency': 'mean', 'Monetary_value': ['mean', 'count']}).round(1)\n",
    "# Print the aggregated dataset\n",
    "print(rfmSeg_agg)"
   ]
  },
  {
   "cell_type": "code",
   "execution_count": null,
   "id": "8e53ccbe",
   "metadata": {},
   "outputs": [],
   "source": [
    "#### Filter out Top/Best cusotmers\n",
    "rfmSeg[rfmSeg['RFM_Score']=='444'].sort_values('Monetary_value', ascending=False).head()"
   ]
  },
  {
   "cell_type": "markdown",
   "id": "fabcf242",
   "metadata": {},
   "source": [
    "## CLUSTERING"
   ]
  },
  {
   "cell_type": "code",
   "execution_count": 31,
   "id": "aa5d4b87",
   "metadata": {},
   "outputs": [
    {
     "data": {
      "text/plain": [
       "CustomerID                  float64\n",
       "Item_Code                    object\n",
       "InvoiceNo                     int64\n",
       "Date_of_purchase     datetime64[ns]\n",
       "Quantity                      int64\n",
       "Time                 datetime64[ns]\n",
       "Revenue                     float64\n",
       "Shipping_Location            object\n",
       "Year                          int64\n",
       "Month                        object\n",
       "Day                          object\n",
       "dtype: object"
      ]
     },
     "execution_count": 31,
     "metadata": {},
     "output_type": "execute_result"
    }
   ],
   "source": [
    "df.head()\n",
    "df['Item_Code'].nunique()\n",
    "df['Date_of_purchase'].nunique()\n",
    "df.dtypes\n"
   ]
  },
  {
   "cell_type": "code",
   "execution_count": 32,
   "id": "e165de5a",
   "metadata": {},
   "outputs": [
    {
     "data": {
      "text/plain": [
       "CustomerID           0\n",
       "Item_Code            0\n",
       "InvoiceNo            0\n",
       "Date_of_purchase     0\n",
       "Quantity             0\n",
       "Time                 0\n",
       "Revenue              0\n",
       "Shipping_Location    0\n",
       "Year                 0\n",
       "Month                0\n",
       "Day                  0\n",
       "dtype: int64"
      ]
     },
     "execution_count": 32,
     "metadata": {},
     "output_type": "execute_result"
    }
   ],
   "source": [
    "df.isnull().sum()"
   ]
  },
  {
   "cell_type": "code",
   "execution_count": 34,
   "id": "889d74b0",
   "metadata": {},
   "outputs": [
    {
     "data": {
      "text/plain": [
       "(395998, 7)"
      ]
     },
     "execution_count": 34,
     "metadata": {},
     "output_type": "execute_result"
    }
   ],
   "source": [
    "df.drop(['Time','Quantity','Year','Month','Day'], axis = 1, inplace = True)\n",
    "df.shape"
   ]
  },
  {
   "cell_type": "code",
   "execution_count": 35,
   "id": "e80915d0",
   "metadata": {},
   "outputs": [],
   "source": [
    "df_Clustering = df.copy(deep=True)\n",
    "df_Clustering.head()\n",
    "df_Clustering.dtypes\n",
    "\n",
    "df_Clustering[\"Date_of_purchase\"] = df_Clustering[\"Date_of_purchase\"].astype(str)"
   ]
  },
  {
   "cell_type": "code",
   "execution_count": 36,
   "id": "8654dea2",
   "metadata": {},
   "outputs": [],
   "source": [
    "from sklearn.preprocessing import LabelEncoder\n",
    "encoder = LabelEncoder()"
   ]
  },
  {
   "cell_type": "code",
   "execution_count": 37,
   "id": "95849118",
   "metadata": {},
   "outputs": [],
   "source": [
    "df_Clustering['Item_Code'] = encoder.fit_transform(df_Clustering['Item_Code'])\n",
    "df_Clustering['Date_of_purchase'] = encoder.fit_transform(df_Clustering['Date_of_purchase'])\n",
    "df_Clustering['Shipping_Location'] = encoder.fit_transform(df_Clustering['Shipping_Location'])"
   ]
  },
  {
   "cell_type": "code",
   "execution_count": 38,
   "id": "8161ae8c",
   "metadata": {},
   "outputs": [
    {
     "data": {
      "text/plain": [
       "CustomerID                  float64\n",
       "Item_Code                    object\n",
       "InvoiceNo                     int64\n",
       "Date_of_purchase     datetime64[ns]\n",
       "Quantity                      int64\n",
       "Revenue                     float64\n",
       "Shipping_Location            object\n",
       "dtype: object"
      ]
     },
     "execution_count": 38,
     "metadata": {},
     "output_type": "execute_result"
    }
   ],
   "source": [
    "df.dtypes"
   ]
  },
  {
   "cell_type": "code",
   "execution_count": 39,
   "id": "2dc33a97",
   "metadata": {},
   "outputs": [
    {
     "data": {
      "text/plain": [
       "19"
      ]
     },
     "execution_count": 39,
     "metadata": {},
     "output_type": "execute_result"
    }
   ],
   "source": [
    "df_Clustering['Shipping_Location'].max()"
   ]
  },
  {
   "cell_type": "code",
   "execution_count": 40,
   "id": "c1dff67c",
   "metadata": {},
   "outputs": [
    {
     "data": {
      "text/plain": [
       "380"
      ]
     },
     "execution_count": 40,
     "metadata": {},
     "output_type": "execute_result"
    }
   ],
   "source": [
    "df_Clustering['Date_of_purchase'].max()"
   ]
  },
  {
   "cell_type": "code",
   "execution_count": 41,
   "id": "c6963b39",
   "metadata": {},
   "outputs": [
    {
     "data": {
      "text/plain": [
       "3636"
      ]
     },
     "execution_count": 41,
     "metadata": {},
     "output_type": "execute_result"
    }
   ],
   "source": [
    "df_Clustering['Item_Code'].max()"
   ]
  },
  {
   "cell_type": "markdown",
   "id": "b4a2507c",
   "metadata": {},
   "source": [
    "# Standardization"
   ]
  },
  {
   "cell_type": "code",
   "execution_count": 42,
   "id": "c3e4b83b",
   "metadata": {},
   "outputs": [
    {
     "data": {
      "text/html": [
       "<div>\n",
       "<style scoped>\n",
       "    .dataframe tbody tr th:only-of-type {\n",
       "        vertical-align: middle;\n",
       "    }\n",
       "\n",
       "    .dataframe tbody tr th {\n",
       "        vertical-align: top;\n",
       "    }\n",
       "\n",
       "    .dataframe thead th {\n",
       "        text-align: right;\n",
       "    }\n",
       "</style>\n",
       "<table border=\"1\" class=\"dataframe\">\n",
       "  <thead>\n",
       "    <tr style=\"text-align: right;\">\n",
       "      <th></th>\n",
       "      <th>CustomerID</th>\n",
       "      <th>Item_Code</th>\n",
       "      <th>InvoiceNo</th>\n",
       "      <th>Date_of_purchase</th>\n",
       "      <th>Quantity</th>\n",
       "      <th>Revenue</th>\n",
       "      <th>Shipping_Location</th>\n",
       "    </tr>\n",
       "  </thead>\n",
       "  <tbody>\n",
       "    <tr>\n",
       "      <th>0</th>\n",
       "      <td>1.731641</td>\n",
       "      <td>0.618156</td>\n",
       "      <td>0.953165</td>\n",
       "      <td>0.931628</td>\n",
       "      <td>-0.196267</td>\n",
       "      <td>-0.128264</td>\n",
       "      <td>-5.371837</td>\n",
       "    </tr>\n",
       "    <tr>\n",
       "      <th>1</th>\n",
       "      <td>1.729246</td>\n",
       "      <td>-0.616799</td>\n",
       "      <td>0.666687</td>\n",
       "      <td>0.718529</td>\n",
       "      <td>-0.331097</td>\n",
       "      <td>-0.166196</td>\n",
       "      <td>-5.371837</td>\n",
       "    </tr>\n",
       "    <tr>\n",
       "      <th>2</th>\n",
       "      <td>1.729246</td>\n",
       "      <td>-0.619138</td>\n",
       "      <td>0.666687</td>\n",
       "      <td>0.780683</td>\n",
       "      <td>-0.331097</td>\n",
       "      <td>-0.140500</td>\n",
       "      <td>-5.371837</td>\n",
       "    </tr>\n",
       "    <tr>\n",
       "      <th>3</th>\n",
       "      <td>1.729246</td>\n",
       "      <td>2.105716</td>\n",
       "      <td>0.225031</td>\n",
       "      <td>0.327846</td>\n",
       "      <td>-0.297390</td>\n",
       "      <td>-0.139888</td>\n",
       "      <td>-5.371837</td>\n",
       "    </tr>\n",
       "    <tr>\n",
       "      <th>4</th>\n",
       "      <td>1.729246</td>\n",
       "      <td>0.213521</td>\n",
       "      <td>0.666687</td>\n",
       "      <td>0.762924</td>\n",
       "      <td>-0.331097</td>\n",
       "      <td>-0.136013</td>\n",
       "      <td>-5.371837</td>\n",
       "    </tr>\n",
       "  </tbody>\n",
       "</table>\n",
       "</div>"
      ],
      "text/plain": [
       "   CustomerID  Item_Code  InvoiceNo  Date_of_purchase  Quantity   Revenue  Shipping_Location\n",
       "0    1.731641   0.618156   0.953165          0.931628 -0.196267 -0.128264          -5.371837\n",
       "1    1.729246  -0.616799   0.666687          0.718529 -0.331097 -0.166196          -5.371837\n",
       "2    1.729246  -0.619138   0.666687          0.780683 -0.331097 -0.140500          -5.371837\n",
       "3    1.729246   2.105716   0.225031          0.327846 -0.297390 -0.139888          -5.371837\n",
       "4    1.729246   0.213521   0.666687          0.762924 -0.331097 -0.136013          -5.371837"
      ]
     },
     "execution_count": 42,
     "metadata": {},
     "output_type": "execute_result"
    }
   ],
   "source": [
    "from sklearn.preprocessing import StandardScaler\n",
    "df_Clustering_Scaling = StandardScaler().fit(df_Clustering)\n",
    "df_Clustering_Std = df_Clustering_Scaling.transform(df_Clustering)\n",
    "df_Clustering_Std = pd.DataFrame(df_Clustering_Std, columns = df_Clustering.columns)\n",
    "\n",
    "df_Clustering_Std.head()"
   ]
  },
  {
   "cell_type": "markdown",
   "id": "a62700b5",
   "metadata": {},
   "source": [
    "### Number of clusters"
   ]
  },
  {
   "cell_type": "code",
   "execution_count": 43,
   "id": "a64d396c",
   "metadata": {},
   "outputs": [],
   "source": [
    "# Elbow method\n",
    "from sklearn.cluster import KMeans\n",
    "\n",
    "WSS = []\n",
    "for k in range(1, 15):\n",
    "    kmeans = KMeans(n_clusters=k, random_state = 123).fit(df_Clustering_Std)\n",
    "    WSS.append(kmeans.inertia_)"
   ]
  },
  {
   "cell_type": "code",
   "execution_count": 44,
   "id": "e1d4efe3",
   "metadata": {},
   "outputs": [
    {
     "data": {
      "text/plain": [
       "[2771985.999999926,\n",
       " 2160772.8828967274,\n",
       " 1757650.0513395928,\n",
       " 1430920.4819346326,\n",
       " 1263928.7597837434,\n",
       " 1134690.3004553511,\n",
       " 1020990.84766387,\n",
       " 931438.7347377418,\n",
       " 861125.637437411,\n",
       " 813707.6349114692,\n",
       " 767693.5749990635,\n",
       " 730137.2514162767,\n",
       " 700414.1509247897,\n",
       " 671279.8656074482]"
      ]
     },
     "execution_count": 44,
     "metadata": {},
     "output_type": "execute_result"
    }
   ],
   "source": [
    "WSS"
   ]
  },
  {
   "cell_type": "code",
   "execution_count": 45,
   "id": "34a89bec",
   "metadata": {},
   "outputs": [
    {
     "data": {
      "text/plain": [
       "<AxesSubplot:>"
      ]
     },
     "execution_count": 45,
     "metadata": {},
     "output_type": "execute_result"
    },
    {
     "data": {
      "image/png": "[encoded data removed]",
      "text/plain": [
       "<Figure size 432x288 with 1 Axes>"
      ]
     },
     "metadata": {
      "needs_background": "light"
     },
     "output_type": "display_data"
    }
   ],
   "source": [
    "# Plot\n",
    "import seaborn as sns\n",
    "sns.lineplot(x=range(1,15), y = WSS)"
   ]
  },
  {
   "cell_type": "markdown",
   "id": "2cfb1c9f",
   "metadata": {},
   "source": [
    "### Modeling"
   ]
  },
  {
   "cell_type": "code",
   "execution_count": 52,
   "id": "52081ef6",
   "metadata": {},
   "outputs": [],
   "source": [
    "# Clustering with 3 clusters\n",
    "Kmeans_Model = KMeans(n_clusters=3, random_state = 123).fit(df_Clustering_Std)"
   ]
  },
  {
   "cell_type": "code",
   "execution_count": 53,
   "id": "cd6e25f6",
   "metadata": {},
   "outputs": [
    {
     "data": {
      "text/plain": [
       "array([2, 2, 2, ..., 1, 1, 1])"
      ]
     },
     "execution_count": 53,
     "metadata": {},
     "output_type": "execute_result"
    }
   ],
   "source": [
    "#Clustering Output Binding\n",
    "\n",
    "# Cluster labeling for each point\n",
    "Kmeans_Model.labels_"
   ]
  },
  {
   "cell_type": "code",
   "execution_count": null,
   "id": "42c55bbe",
   "metadata": {},
   "outputs": [],
   "source": [
    "# Combine cluster info with original data\n",
    "df_N = pd.concat([df_Clustering, pd.Series(Kmeans_Model.labels_)], axis = 1).rename(columns = {0:'Cluster'})\n",
    "df_N"
   ]
  },
  {
   "cell_type": "code",
   "execution_count": 55,
   "id": "b9aec905",
   "metadata": {},
   "outputs": [
    {
     "data": {
      "text/plain": [
       "2.0    219405\n",
       "1.0    168605\n",
       "0.0      7988\n",
       "Name: Cluster, dtype: int64"
      ]
     },
     "execution_count": 55,
     "metadata": {},
     "output_type": "execute_result"
    }
   ],
   "source": [
    "# Cluster sizes\n",
    "df_N['Cluster'].value_counts()"
   ]
  },
  {
   "cell_type": "markdown",
   "id": "432551f7",
   "metadata": {},
   "source": [
    "# Clustering Validation using Silhouette Value"
   ]
  },
  {
   "cell_type": "code",
   "execution_count": 61,
   "id": "45e3952f",
   "metadata": {},
   "outputs": [
    {
     "data": {
      "text/html": [
       "<div>\n",
       "<style scoped>\n",
       "    .dataframe tbody tr th:only-of-type {\n",
       "        vertical-align: middle;\n",
       "    }\n",
       "\n",
       "    .dataframe tbody tr th {\n",
       "        vertical-align: top;\n",
       "    }\n",
       "\n",
       "    .dataframe thead th {\n",
       "        text-align: right;\n",
       "    }\n",
       "</style>\n",
       "<table border=\"1\" class=\"dataframe\">\n",
       "  <thead>\n",
       "    <tr style=\"text-align: right;\">\n",
       "      <th></th>\n",
       "      <th>CustomerID</th>\n",
       "      <th>Item_Code</th>\n",
       "      <th>InvoiceNo</th>\n",
       "      <th>Date_of_purchase</th>\n",
       "      <th>Quantity</th>\n",
       "      <th>Revenue</th>\n",
       "      <th>Shipping_Location</th>\n",
       "    </tr>\n",
       "  </thead>\n",
       "  <tbody>\n",
       "    <tr>\n",
       "      <th>0</th>\n",
       "      <td>1.731641</td>\n",
       "      <td>0.618156</td>\n",
       "      <td>0.953165</td>\n",
       "      <td>0.931628</td>\n",
       "      <td>-0.196267</td>\n",
       "      <td>-0.128264</td>\n",
       "      <td>-5.371837</td>\n",
       "    </tr>\n",
       "    <tr>\n",
       "      <th>1</th>\n",
       "      <td>1.729246</td>\n",
       "      <td>-0.616799</td>\n",
       "      <td>0.666687</td>\n",
       "      <td>0.718529</td>\n",
       "      <td>-0.331097</td>\n",
       "      <td>-0.166196</td>\n",
       "      <td>-5.371837</td>\n",
       "    </tr>\n",
       "    <tr>\n",
       "      <th>2</th>\n",
       "      <td>1.729246</td>\n",
       "      <td>-0.619138</td>\n",
       "      <td>0.666687</td>\n",
       "      <td>0.780683</td>\n",
       "      <td>-0.331097</td>\n",
       "      <td>-0.140500</td>\n",
       "      <td>-5.371837</td>\n",
       "    </tr>\n",
       "    <tr>\n",
       "      <th>3</th>\n",
       "      <td>1.729246</td>\n",
       "      <td>2.105716</td>\n",
       "      <td>0.225031</td>\n",
       "      <td>0.327846</td>\n",
       "      <td>-0.297390</td>\n",
       "      <td>-0.139888</td>\n",
       "      <td>-5.371837</td>\n",
       "    </tr>\n",
       "    <tr>\n",
       "      <th>4</th>\n",
       "      <td>1.729246</td>\n",
       "      <td>0.213521</td>\n",
       "      <td>0.666687</td>\n",
       "      <td>0.762924</td>\n",
       "      <td>-0.331097</td>\n",
       "      <td>-0.136013</td>\n",
       "      <td>-5.371837</td>\n",
       "    </tr>\n",
       "  </tbody>\n",
       "</table>\n",
       "</div>"
      ],
      "text/plain": [
       "   CustomerID  Item_Code  InvoiceNo  Date_of_purchase  Quantity   Revenue  Shipping_Location\n",
       "0    1.731641   0.618156   0.953165          0.931628 -0.196267 -0.128264          -5.371837\n",
       "1    1.729246  -0.616799   0.666687          0.718529 -0.331097 -0.166196          -5.371837\n",
       "2    1.729246  -0.619138   0.666687          0.780683 -0.331097 -0.140500          -5.371837\n",
       "3    1.729246   2.105716   0.225031          0.327846 -0.297390 -0.139888          -5.371837\n",
       "4    1.729246   0.213521   0.666687          0.762924 -0.331097 -0.136013          -5.371837"
      ]
     },
     "execution_count": 61,
     "metadata": {},
     "output_type": "execute_result"
    }
   ],
   "source": [
    "from sklearn.metrics import silhouette_samples, silhouette_score\n",
    "df_Clustering_Std2 = pd.concat([df_Clustering_Std, pd.Series(Kmeans_Model.labels_)], \n",
    "                          axis = 1).rename(columns = {0:'Cluster'}).copy()\n",
    "df_Clustering_Std.head()\n"
   ]
  },
  {
   "cell_type": "code",
   "execution_count": 62,
   "id": "4eb5a628",
   "metadata": {},
   "outputs": [
    {
     "data": {
      "text/html": [
       "<div>\n",
       "<style scoped>\n",
       "    .dataframe tbody tr th:only-of-type {\n",
       "        vertical-align: middle;\n",
       "    }\n",
       "\n",
       "    .dataframe tbody tr th {\n",
       "        vertical-align: top;\n",
       "    }\n",
       "\n",
       "    .dataframe thead th {\n",
       "        text-align: right;\n",
       "    }\n",
       "</style>\n",
       "<table border=\"1\" class=\"dataframe\">\n",
       "  <thead>\n",
       "    <tr style=\"text-align: right;\">\n",
       "      <th></th>\n",
       "      <th>CustomerID</th>\n",
       "      <th>Item_Code</th>\n",
       "      <th>InvoiceNo</th>\n",
       "      <th>Date_of_purchase</th>\n",
       "      <th>Quantity</th>\n",
       "      <th>Revenue</th>\n",
       "      <th>Shipping_Location</th>\n",
       "      <th>Cluster</th>\n",
       "      <th>Silhouette_Value</th>\n",
       "    </tr>\n",
       "  </thead>\n",
       "  <tbody>\n",
       "    <tr>\n",
       "      <th>0</th>\n",
       "      <td>1.731641</td>\n",
       "      <td>0.618156</td>\n",
       "      <td>0.953165</td>\n",
       "      <td>0.931628</td>\n",
       "      <td>-0.196267</td>\n",
       "      <td>-0.128264</td>\n",
       "      <td>-5.371837</td>\n",
       "      <td>2</td>\n",
       "      <td>0.099308</td>\n",
       "    </tr>\n",
       "    <tr>\n",
       "      <th>1</th>\n",
       "      <td>1.729246</td>\n",
       "      <td>-0.616799</td>\n",
       "      <td>0.666687</td>\n",
       "      <td>0.718529</td>\n",
       "      <td>-0.331097</td>\n",
       "      <td>-0.166196</td>\n",
       "      <td>-5.371837</td>\n",
       "      <td>2</td>\n",
       "      <td>0.073910</td>\n",
       "    </tr>\n",
       "    <tr>\n",
       "      <th>2</th>\n",
       "      <td>1.729246</td>\n",
       "      <td>-0.619138</td>\n",
       "      <td>0.666687</td>\n",
       "      <td>0.780683</td>\n",
       "      <td>-0.331097</td>\n",
       "      <td>-0.140500</td>\n",
       "      <td>-5.371837</td>\n",
       "      <td>2</td>\n",
       "      <td>0.076384</td>\n",
       "    </tr>\n",
       "    <tr>\n",
       "      <th>3</th>\n",
       "      <td>1.729246</td>\n",
       "      <td>2.105716</td>\n",
       "      <td>0.225031</td>\n",
       "      <td>0.327846</td>\n",
       "      <td>-0.297390</td>\n",
       "      <td>-0.139888</td>\n",
       "      <td>-5.371837</td>\n",
       "      <td>2</td>\n",
       "      <td>0.047265</td>\n",
       "    </tr>\n",
       "    <tr>\n",
       "      <th>4</th>\n",
       "      <td>1.729246</td>\n",
       "      <td>0.213521</td>\n",
       "      <td>0.666687</td>\n",
       "      <td>0.762924</td>\n",
       "      <td>-0.331097</td>\n",
       "      <td>-0.136013</td>\n",
       "      <td>-5.371837</td>\n",
       "      <td>2</td>\n",
       "      <td>0.080681</td>\n",
       "    </tr>\n",
       "  </tbody>\n",
       "</table>\n",
       "</div>"
      ],
      "text/plain": [
       "   CustomerID  Item_Code  InvoiceNo  Date_of_purchase  Quantity   Revenue  Shipping_Location  Cluster  Silhouette_Value\n",
       "0    1.731641   0.618156   0.953165          0.931628 -0.196267 -0.128264          -5.371837        2          0.099308\n",
       "1    1.729246  -0.616799   0.666687          0.718529 -0.331097 -0.166196          -5.371837        2          0.073910\n",
       "2    1.729246  -0.619138   0.666687          0.780683 -0.331097 -0.140500          -5.371837        2          0.076384\n",
       "3    1.729246   2.105716   0.225031          0.327846 -0.297390 -0.139888          -5.371837        2          0.047265\n",
       "4    1.729246   0.213521   0.666687          0.762924 -0.331097 -0.136013          -5.371837        2          0.080681"
      ]
     },
     "execution_count": 62,
     "metadata": {},
     "output_type": "execute_result"
    }
   ],
   "source": [
    "# Individual Row Silhouette Scores\n",
    "sample_silhouette_values = silhouette_samples(df_Clustering_Std, Kmeans_Model.labels_)\n",
    "df_Clustering_Std2['Silhouette_Value'] = sample_silhouette_values\n",
    "df_Clustering_Std2.head()"
   ]
  },
  {
   "cell_type": "code",
   "execution_count": 63,
   "id": "a4b26624",
   "metadata": {},
   "outputs": [
    {
     "data": {
      "text/plain": [
       "Cluster\n",
       "0    0.149995\n",
       "1    0.265883\n",
       "2    0.312715\n",
       "Name: Silhouette_Value, dtype: float64"
      ]
     },
     "execution_count": 63,
     "metadata": {},
     "output_type": "execute_result"
    }
   ],
   "source": [
    "# Cluster-wise Silhouette Scores\n",
    "df_Clustering_Std2.groupby(['Cluster'])['Silhouette_Value'].mean()"
   ]
  },
  {
   "cell_type": "code",
   "execution_count": null,
   "id": "ab0fcaf6",
   "metadata": {},
   "outputs": [],
   "source": [
    "# Overall Sihouette Score\n",
    "silhouette_score(df_Clustering_Std, Kmeans_Model.labels_) "
   ]
  },
  {
   "cell_type": "code",
   "execution_count": null,
   "id": "26df7c2f",
   "metadata": {},
   "outputs": [],
   "source": []
  },
  {
   "cell_type": "code",
   "execution_count": null,
   "id": "80d68903",
   "metadata": {},
   "outputs": [],
   "source": []
  },
  {
   "cell_type": "code",
   "execution_count": null,
   "id": "68116f3f",
   "metadata": {},
   "outputs": [],
   "source": []
  }
 ],
 "metadata": {
  "kernelspec": {
   "display_name": "Python 3",
   "language": "python",
   "name": "python3"
  },
  "language_info": {
   "codemirror_mode": {
    "name": "ipython",
    "version": 3
   },
   "file_extension": ".py",
   "mimetype": "text/x-python",
   "name": "python",
   "nbconvert_exporter": "python",
   "pygments_lexer": "ipython3",
   "version": "3.8.8"
  }
 },
 "nbformat": 4,
 "nbformat_minor": 5
}
